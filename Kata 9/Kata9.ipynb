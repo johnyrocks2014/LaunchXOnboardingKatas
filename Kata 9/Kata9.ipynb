{
 "cells": [
  {
   "cell_type": "code",
   "execution_count": 7,
   "metadata": {},
   "outputs": [
    {
     "name": "stdout",
     "output_type": "stream",
     "text": [
      "The average fuel in the tanks is 14.0\n"
     ]
    }
   ],
   "source": [
    "def printReport(tank1, tank2, tank3):\n",
    "    print(f'The average fuel in the tanks is {getAverage(tank1,tank2,tank3)}')\n",
    "\n",
    "def getAverage(*values):\n",
    "    sum = 0\n",
    "    for v in values:\n",
    "        sum += v\n",
    "    return sum/len(values)\n",
    "\n",
    "printReport(10,2,30)"
   ]
  },
  {
   "cell_type": "code",
   "execution_count": 10,
   "metadata": {},
   "outputs": [
    {
     "name": "stdout",
     "output_type": "stream",
     "text": [
      "Mission to Mars starting at 20 hours with a flight time of 150 minutes. \n",
      "Fuel in internal tank is 300000, fuel in external tank is 200000\n"
     ]
    }
   ],
   "source": [
    "def printReport(launch_time, flight_time, destination, ext_tank, in_tank):\n",
    "    return f'Mission to {destination} starting at {launch_time} hours with a flight time of {flight_time} minutes. \\nFuel in internal tank is {in_tank}, fuel in external tank is {ext_tank}'\n",
    "\n",
    "print(printReport(20, 150, \"Mars\", 100, 200))"
   ]
  },
  {
   "cell_type": "code",
   "execution_count": 14,
   "metadata": {},
   "outputs": [
    {
     "name": "stdout",
     "output_type": "stream",
     "text": [
      "\n",
      "    Mission to Mars\n",
      "    Total travel time: 170 minutes\n",
      "    Total fuel: 300\n",
      "    internal tank contains 100 fuel left\n",
      "external tank contains 200 fuel left\n",
      "\n"
     ]
    }
   ],
   "source": [
    "def printReport(destination, *minutes, **tanks):\n",
    "    report = f\"\"\"\n",
    "    Mission to {destination}\n",
    "    Total travel time: {sum(minutes)} minutes\n",
    "    Total fuel: {sum(tanks.values())}\n",
    "    \"\"\"\n",
    "\n",
    "    for tank, fuel in tanks.items():\n",
    "        report += f\"{tank} tank contains {fuel} fuel left\\n\"\n",
    "    return report\n",
    "\n",
    "print(printReport(\"Mars\", 20, 150, internal=100, external=200))"
   ]
  }
 ],
 "metadata": {
  "interpreter": {
   "hash": "63fd5069d213b44bf678585dea6b12cceca9941eaf7f819626cde1f2670de90d"
  },
  "kernelspec": {
   "display_name": "Python 3.9.2 64-bit",
   "language": "python",
   "name": "python3"
  },
  "language_info": {
   "codemirror_mode": {
    "name": "ipython",
    "version": 3
   },
   "file_extension": ".py",
   "mimetype": "text/x-python",
   "name": "python",
   "nbconvert_exporter": "python",
   "pygments_lexer": "ipython3",
   "version": "3.9.2"
  },
  "orig_nbformat": 4
 },
 "nbformat": 4,
 "nbformat_minor": 2
}
