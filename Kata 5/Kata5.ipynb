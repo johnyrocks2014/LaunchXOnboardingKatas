{
 "cells": [
  {
   "cell_type": "code",
   "execution_count": 2,
   "metadata": {},
   "outputs": [
    {
     "name": "stdout",
     "output_type": "stream",
     "text": [
      "628949330\n",
      "390577533.93\n"
     ]
    }
   ],
   "source": [
    "earth_distance = 149597870\n",
    "jupiter_distance = 778547200\n",
    "distance_between_planets = jupiter_distance - earth_distance\n",
    "distance_in_miles = distance_between_planets * 0.621\n",
    "print(distance_between_planets)\n",
    "print(distance_in_miles)"
   ]
  },
  {
   "cell_type": "code",
   "execution_count": 3,
   "metadata": {},
   "outputs": [
    {
     "name": "stdout",
     "output_type": "stream",
     "text": [
      "4437200000\n",
      "2755501200.0\n"
     ]
    }
   ],
   "source": [
    "distance_first_str = input('Distance from first planet:')\n",
    "distance_second_str = input('Distance from second planet')\n",
    "distance_first = int(distance_first_str)\n",
    "distance_second = int(distance_second_str)\n",
    "distance_between_planets = abs(distance_first - distance_second)\n",
    "distance_in_miles = distance_between_planets * 0.621\n",
    "print(distance_between_planets)\n",
    "print(distance_in_miles)"
   ]
  }
 ],
 "metadata": {
  "interpreter": {
   "hash": "63fd5069d213b44bf678585dea6b12cceca9941eaf7f819626cde1f2670de90d"
  },
  "kernelspec": {
   "display_name": "Python 3.9.2 64-bit",
   "language": "python",
   "name": "python3"
  },
  "language_info": {
   "codemirror_mode": {
    "name": "ipython",
    "version": 3
   },
   "file_extension": ".py",
   "mimetype": "text/x-python",
   "name": "python",
   "nbconvert_exporter": "python",
   "pygments_lexer": "ipython3",
   "version": "3.9.2"
  },
  "orig_nbformat": 4
 },
 "nbformat": 4,
 "nbformat_minor": 2
}
