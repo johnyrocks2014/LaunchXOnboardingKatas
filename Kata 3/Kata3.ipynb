{
 "cells": [
  {
   "cell_type": "code",
   "execution_count": 2,
   "metadata": {},
   "outputs": [
    {
     "name": "stdout",
     "output_type": "stream",
     "text": [
      "The asteroid is coming in too fast!\n"
     ]
    }
   ],
   "source": [
    "asteroid_speed = 49\n",
    "if asteroid_speed > 25:\n",
    "    print(\"The asteroid is coming in too fast!\")\n",
    "else:\n",
    "    print(\"The asteroid is coming in slowly\")"
   ]
  },
  {
   "cell_type": "code",
   "execution_count": 4,
   "metadata": {},
   "outputs": [
    {
     "name": "stdout",
     "output_type": "stream",
     "text": [
      "No need to look up\n"
     ]
    }
   ],
   "source": [
    "asteroid_speed = 19\n",
    "if asteroid_speed > 20:\n",
    "    print(\"Look up to find the asteroid in the sky!\")\n",
    "elif asteroid_speed == 20:\n",
    "    print(\"Seriously look up to find the asteroid in the sky!\")\n",
    "else:\n",
    "    print(\"No need to look up\")"
   ]
  },
  {
   "cell_type": "code",
   "execution_count": null,
   "metadata": {},
   "outputs": [],
   "source": [
    "asteroid_size = 0\n",
    "asteroid_speed = 0\n",
    "if asteroid_speed > 25 and asteroid_size > 25:\n",
    "    print(\"The asteroid is coming in too fast!\")\n",
    "elif asteroid_speed >= 20:\n",
    "    print(\"Look up to find the asteroid in the sky!\")\n",
    "elif asteroid_size < 25:\n",
    "    print(\"No need to do\")\n",
    "else:\n",
    "    print(\"No need to do\")"
   ]
  }
 ],
 "metadata": {
  "interpreter": {
   "hash": "63fd5069d213b44bf678585dea6b12cceca9941eaf7f819626cde1f2670de90d"
  },
  "kernelspec": {
   "display_name": "Python 3.9.2 64-bit",
   "language": "python",
   "name": "python3"
  },
  "language_info": {
   "codemirror_mode": {
    "name": "ipython",
    "version": 3
   },
   "file_extension": ".py",
   "mimetype": "text/x-python",
   "name": "python",
   "nbconvert_exporter": "python",
   "pygments_lexer": "ipython3",
   "version": "3.9.2"
  },
  "orig_nbformat": 4
 },
 "nbformat": 4,
 "nbformat_minor": 2
}
